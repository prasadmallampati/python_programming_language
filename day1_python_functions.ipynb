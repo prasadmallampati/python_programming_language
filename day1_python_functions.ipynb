{
  "nbformat": 4,
  "nbformat_minor": 0,
  "metadata": {
    "colab": {
      "provenance": []
    },
    "kernelspec": {
      "name": "python3",
      "display_name": "Python 3"
    },
    "language_info": {
      "name": "python"
    }
  },
  "cells": [
    {
      "cell_type": "code",
      "execution_count": null,
      "metadata": {
        "id": "Ij__VylR2WIs"
      },
      "outputs": [],
      "source": []
    },
    {
      "cell_type": "markdown",
      "source": [
        "# 2-07-2024\n",
        "\n",
        "Question 1: Write a Python function that takes two numbers as arguments and returns their sum.\n",
        "\n",
        "Question 2: Write a Python function that takes a string as an argument and returns the string in reverse.\n",
        "\n",
        "Question 3: Write a Python function that takes a list of numbers and returns the maximum value in the list.\n",
        "\n",
        "Question 4: Write a Python function that takes a number as an argument and returns True if the number is prime, otherwise False."
      ],
      "metadata": {
        "id": "RWmrlhQC2n3p"
      }
    },
    {
      "cell_type": "code",
      "source": [
        "# Question 1: Write a Python function that takes two numbers as arguments and returns their sum\n",
        "def add(a,b):\n",
        "  return a+b\n",
        "add(10,20)"
      ],
      "metadata": {
        "id": "ZdKXsgGR2qzJ"
      },
      "execution_count": null,
      "outputs": []
    },
    {
      "cell_type": "code",
      "source": [
        "# Question 2: Write a Python function that takes a string as an argument and returns the string in reverse\n",
        "def reverse(s):\n",
        "  return s[::-1]\n",
        "reverse('hello')"
      ],
      "metadata": {
        "colab": {
          "base_uri": "https://localhost:8080/",
          "height": 36
        },
        "id": "ehCjrk4q2-kf",
        "outputId": "ad7f66b9-7e20-4db5-f535-7cdbade84bc7"
      },
      "execution_count": null,
      "outputs": [
        {
          "output_type": "execute_result",
          "data": {
            "text/plain": [
              "'olleh'"
            ],
            "application/vnd.google.colaboratory.intrinsic+json": {
              "type": "string"
            }
          },
          "metadata": {},
          "execution_count": 1
        }
      ]
    },
    {
      "cell_type": "code",
      "source": [
        "# Question 3: Write a Python function that takes a list of numbers and returns the maximum value in the list.\n",
        "def maxValue(l):\n",
        "    l.sort()\n",
        "    return l[-1]\n",
        "print(maxValue([1,2,30,4,5,]))"
      ],
      "metadata": {
        "colab": {
          "base_uri": "https://localhost:8080/"
        },
        "id": "X19tYg-v3CoI",
        "outputId": "f35410ed-70b7-4505-dac8-892917123bca"
      },
      "execution_count": null,
      "outputs": [
        {
          "output_type": "stream",
          "name": "stdout",
          "text": [
            "30\n"
          ]
        }
      ]
    },
    {
      "cell_type": "code",
      "source": [
        "# Question 4: Write a Python function that takes a number as an argument and returns True if the number is prime, otherwise False.\n",
        "def is_prime(n):\n",
        "    if n <= 1:\n",
        "        return False\n",
        "    for i in range(2, int(n**0.5) + 1):\n",
        "        if n % i == 0:\n",
        "            return False\n",
        "    return True\n",
        "\n",
        "# Check if 10 is a prime number\n",
        "n=int(input(\"Enter a number: \"))\n",
        "result = is_prime(n)\n",
        "print(result)\n"
      ],
      "metadata": {
        "colab": {
          "base_uri": "https://localhost:8080/"
        },
        "id": "Vyuexrqb3CyG",
        "outputId": "b69e4016-4f08-4b5d-e7d0-39e6ba0d3c4e"
      },
      "execution_count": null,
      "outputs": [
        {
          "output_type": "execute_result",
          "data": {
            "text/plain": [
              "True"
            ]
          },
          "metadata": {},
          "execution_count": 29
        }
      ]
    },
    {
      "cell_type": "code",
      "source": [],
      "metadata": {
        "id": "U_biRM138h_2"
      },
      "execution_count": null,
      "outputs": []
    }
  ]
}